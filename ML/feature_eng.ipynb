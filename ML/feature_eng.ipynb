{
  "nbformat": 4,
  "nbformat_minor": 0,
  "metadata": {
    "kernelspec": {
      "display_name": "Python 3",
      "language": "python",
      "name": "python3"
    },
    "language_info": {
      "codemirror_mode": {
        "name": "ipython",
        "version": 3
      },
      "file_extension": ".py",
      "mimetype": "text/x-python",
      "name": "python",
      "nbconvert_exporter": "python",
      "pygments_lexer": "ipython3",
      "version": "3.6.9"
    },
    "colab": {
      "name": "feature_eng.ipynb",
      "provenance": [],
      "toc_visible": true
    }
  },
  "cells": [
    {
      "cell_type": "markdown",
      "metadata": {
        "id": "gExjVHxUs8GP",
        "colab_type": "text"
      },
      "source": [
        "# Feature Engineering: Feature Creation"
      ]
    },
    {
      "cell_type": "markdown",
      "metadata": {
        "id": "1I-_qQQvs8GT",
        "colab_type": "text"
      },
      "source": [
        "### Read in text"
      ]
    },
    {
      "cell_type": "code",
      "metadata": {
        "id": "jUNKGFuhs_HK",
        "colab_type": "code",
        "colab": {
          "base_uri": "https://localhost:8080/",
          "height": 121
        },
        "outputId": "3397b433-8843-4733-8be4-0cbc46c668dd"
      },
      "source": [
        "!git clone https://github.com/mohanrajmit/NLP.git"
      ],
      "execution_count": 1,
      "outputs": [
        {
          "output_type": "stream",
          "text": [
            "Cloning into 'NLP'...\n",
            "remote: Enumerating objects: 64, done.\u001b[K\n",
            "remote: Counting objects:   1% (1/64)\u001b[K\rremote: Counting objects:   3% (2/64)\u001b[K\rremote: Counting objects:   4% (3/64)\u001b[K\rremote: Counting objects:   6% (4/64)\u001b[K\rremote: Counting objects:   7% (5/64)\u001b[K\rremote: Counting objects:   9% (6/64)\u001b[K\rremote: Counting objects:  10% (7/64)\u001b[K\rremote: Counting objects:  12% (8/64)\u001b[K\rremote: Counting objects:  14% (9/64)\u001b[K\rremote: Counting objects:  15% (10/64)\u001b[K\rremote: Counting objects:  17% (11/64)\u001b[K\rremote: Counting objects:  18% (12/64)\u001b[K\rremote: Counting objects:  20% (13/64)\u001b[K\rremote: Counting objects:  21% (14/64)\u001b[K\rremote: Counting objects:  23% (15/64)\u001b[K\rremote: Counting objects:  25% (16/64)\u001b[K\rremote: Counting objects:  26% (17/64)\u001b[K\rremote: Counting objects:  28% (18/64)\u001b[K\rremote: Counting objects:  29% (19/64)\u001b[K\rremote: Counting objects:  31% (20/64)\u001b[K\rremote: Counting objects:  32% (21/64)\u001b[K\rremote: Counting objects:  34% (22/64)\u001b[K\rremote: Counting objects:  35% (23/64)\u001b[K\rremote: Counting objects:  37% (24/64)\u001b[K\rremote: Counting objects:  39% (25/64)\u001b[K\rremote: Counting objects:  40% (26/64)\u001b[K\rremote: Counting objects:  42% (27/64)\u001b[K\rremote: Counting objects:  43% (28/64)\u001b[K\rremote: Counting objects:  45% (29/64)\u001b[K\rremote: Counting objects:  46% (30/64)\u001b[K\rremote: Counting objects:  48% (31/64)\u001b[K\rremote: Counting objects:  50% (32/64)\u001b[K\rremote: Counting objects:  51% (33/64)\u001b[K\rremote: Counting objects:  53% (34/64)\u001b[K\rremote: Counting objects:  54% (35/64)\u001b[K\rremote: Counting objects:  56% (36/64)\u001b[K\rremote: Counting objects:  57% (37/64)\u001b[K\rremote: Counting objects:  59% (38/64)\u001b[K\rremote: Counting objects:  60% (39/64)\u001b[K\rremote: Counting objects:  62% (40/64)\u001b[K\rremote: Counting objects:  64% (41/64)\u001b[K\rremote: Counting objects:  65% (42/64)\u001b[K\rremote: Counting objects:  67% (43/64)\u001b[K\rremote: Counting objects:  68% (44/64)\u001b[K\rremote: Counting objects:  70% (45/64)\u001b[K\rremote: Counting objects:  71% (46/64)\u001b[K\rremote: Counting objects:  73% (47/64)\u001b[K\rremote: Counting objects:  75% (48/64)\u001b[K\rremote: Counting objects:  76% (49/64)\u001b[K\rremote: Counting objects:  78% (50/64)\u001b[K\rremote: Counting objects:  79% (51/64)\u001b[K\rremote: Counting objects:  81% (52/64)\u001b[K\rremote: Counting objects:  82% (53/64)\u001b[K\rremote: Counting objects:  84% (54/64)\u001b[K\rremote: Counting objects:  85% (55/64)\u001b[K\rremote: Counting objects:  87% (56/64)\u001b[K\rremote: Counting objects:  89% (57/64)\u001b[K\rremote: Counting objects:  90% (58/64)\u001b[K\rremote: Counting objects:  92% (59/64)\u001b[K\rremote: Counting objects:  93% (60/64)\u001b[K\rremote: Counting objects:  95% (61/64)\u001b[K\rremote: Counting objects:  96% (62/64)\u001b[K\rremote: Counting objects:  98% (63/64)\u001b[K\rremote: Counting objects: 100% (64/64)\u001b[K\rremote: Counting objects: 100% (64/64), done.\u001b[K\n",
            "remote: Compressing objects:   1% (1/62)\u001b[K\rremote: Compressing objects:   3% (2/62)\u001b[K\rremote: Compressing objects:   4% (3/62)\u001b[K\rremote: Compressing objects:   6% (4/62)\u001b[K\rremote: Compressing objects:   8% (5/62)\u001b[K\rremote: Compressing objects:   9% (6/62)\u001b[K\rremote: Compressing objects:  11% (7/62)\u001b[K\rremote: Compressing objects:  12% (8/62)\u001b[K\rremote: Compressing objects:  14% (9/62)\u001b[K\rremote: Compressing objects:  16% (10/62)\u001b[K\rremote: Compressing objects:  17% (11/62)\u001b[K\rremote: Compressing objects:  19% (12/62)\u001b[K\rremote: Compressing objects:  20% (13/62)\u001b[K\rremote: Compressing objects:  22% (14/62)\u001b[K\rremote: Compressing objects:  24% (15/62)\u001b[K\rremote: Compressing objects:  25% (16/62)\u001b[K\rremote: Compressing objects:  27% (17/62)\u001b[K\rremote: Compressing objects:  29% (18/62)\u001b[K\rremote: Compressing objects:  30% (19/62)\u001b[K\rremote: Compressing objects:  32% (20/62)\u001b[K\rremote: Compressing objects:  33% (21/62)\u001b[K\rremote: Compressing objects:  35% (22/62)\u001b[K\rremote: Compressing objects:  37% (23/62)\u001b[K\rremote: Compressing objects:  38% (24/62)\u001b[K\rremote: Compressing objects:  40% (25/62)\u001b[K\rremote: Compressing objects:  41% (26/62)\u001b[K\rremote: Compressing objects:  43% (27/62)\u001b[K\rremote: Compressing objects:  45% (28/62)\u001b[K\rremote: Compressing objects:  46% (29/62)\u001b[K\rremote: Compressing objects:  48% (30/62)\u001b[K\rremote: Compressing objects:  50% (31/62)\u001b[K\rremote: Compressing objects:  51% (32/62)\u001b[K\rremote: Compressing objects:  53% (33/62)\u001b[K\rremote: Compressing objects:  54% (34/62)\u001b[K\rremote: Compressing objects:  56% (35/62)\u001b[K\rremote: Compressing objects:  58% (36/62)\u001b[K\rremote: Compressing objects:  59% (37/62)\u001b[K\rremote: Compressing objects:  61% (38/62)\u001b[K\rremote: Compressing objects:  62% (39/62)\u001b[K\rremote: Compressing objects:  64% (40/62)\u001b[K\rremote: Compressing objects:  66% (41/62)\u001b[K\rremote: Compressing objects:  67% (42/62)\u001b[K\rremote: Compressing objects:  69% (43/62)\u001b[K\rremote: Compressing objects:  70% (44/62)\u001b[K\rremote: Compressing objects:  72% (45/62)\u001b[K\rremote: Compressing objects:  74% (46/62)\u001b[K\rremote: Compressing objects:  75% (47/62)\u001b[K\rremote: Compressing objects:  77% (48/62)\u001b[K\rremote: Compressing objects:  79% (49/62)\u001b[K\rremote: Compressing objects:  80% (50/62)\u001b[K\rremote: Compressing objects:  82% (51/62)\u001b[K\rremote: Compressing objects:  83% (52/62)\u001b[K\rremote: Compressing objects:  85% (53/62)\u001b[K\rremote: Compressing objects:  87% (54/62)\u001b[K\rremote: Compressing objects:  88% (55/62)\u001b[K\rremote: Compressing objects:  90% (56/62)\u001b[K\rremote: Compressing objects:  91% (57/62)\u001b[K\rremote: Compressing objects:  93% (58/62)\u001b[K\rremote: Compressing objects:  95% (59/62)\u001b[K\rremote: Compressing objects:  96% (60/62)\u001b[K\rremote: Compressing objects:  98% (61/62)\u001b[K\rremote: Compressing objects: 100% (62/62)\u001b[K\rremote: Compressing objects: 100% (62/62), done.\u001b[K\n",
            "Unpacking objects:   1% (1/64)   \rUnpacking objects:   3% (2/64)   \rUnpacking objects:   4% (3/64)   \rUnpacking objects:   6% (4/64)   \rUnpacking objects:   7% (5/64)   \rUnpacking objects:   9% (6/64)   \rUnpacking objects:  10% (7/64)   \rUnpacking objects:  12% (8/64)   \rUnpacking objects:  14% (9/64)   \rUnpacking objects:  15% (10/64)   \rUnpacking objects:  17% (11/64)   \rUnpacking objects:  18% (12/64)   \rUnpacking objects:  20% (13/64)   \rUnpacking objects:  21% (14/64)   \rUnpacking objects:  23% (15/64)   \rUnpacking objects:  25% (16/64)   \rUnpacking objects:  26% (17/64)   \rUnpacking objects:  28% (18/64)   \rUnpacking objects:  29% (19/64)   \rUnpacking objects:  31% (20/64)   \rUnpacking objects:  32% (21/64)   \rUnpacking objects:  34% (22/64)   \rUnpacking objects:  35% (23/64)   \rUnpacking objects:  37% (24/64)   \rUnpacking objects:  39% (25/64)   \rUnpacking objects:  40% (26/64)   \rUnpacking objects:  42% (27/64)   \rUnpacking objects:  43% (28/64)   \rUnpacking objects:  45% (29/64)   \rUnpacking objects:  46% (30/64)   \rUnpacking objects:  48% (31/64)   \rUnpacking objects:  50% (32/64)   \rUnpacking objects:  51% (33/64)   \rUnpacking objects:  53% (34/64)   \rUnpacking objects:  54% (35/64)   \rUnpacking objects:  56% (36/64)   \rUnpacking objects:  57% (37/64)   \rUnpacking objects:  59% (38/64)   \rUnpacking objects:  60% (39/64)   \rUnpacking objects:  62% (40/64)   \rUnpacking objects:  64% (41/64)   \rremote: Total 64 (delta 33), reused 0 (delta 0), pack-reused 0\u001b[K\n",
            "Unpacking objects:  65% (42/64)   \rUnpacking objects:  67% (43/64)   \rUnpacking objects:  68% (44/64)   \rUnpacking objects:  70% (45/64)   \rUnpacking objects:  71% (46/64)   \rUnpacking objects:  73% (47/64)   \rUnpacking objects:  75% (48/64)   \rUnpacking objects:  76% (49/64)   \rUnpacking objects:  78% (50/64)   \rUnpacking objects:  79% (51/64)   \rUnpacking objects:  81% (52/64)   \rUnpacking objects:  82% (53/64)   \rUnpacking objects:  84% (54/64)   \rUnpacking objects:  85% (55/64)   \rUnpacking objects:  87% (56/64)   \rUnpacking objects:  89% (57/64)   \rUnpacking objects:  90% (58/64)   \rUnpacking objects:  92% (59/64)   \rUnpacking objects:  93% (60/64)   \rUnpacking objects:  95% (61/64)   \rUnpacking objects:  96% (62/64)   \rUnpacking objects:  98% (63/64)   \rUnpacking objects: 100% (64/64)   \rUnpacking objects: 100% (64/64), done.\n"
          ],
          "name": "stdout"
        }
      ]
    },
    {
      "cell_type": "code",
      "metadata": {
        "id": "ugfHakQrs8GV",
        "colab_type": "code",
        "colab": {}
      },
      "source": [
        "import pandas as pd\n",
        "\n",
        "data = pd.read_csv(\"/content/NLP/SMSSpamCollection.tsv\", sep='\\t')\n",
        "data.columns = ['label', 'body_text']"
      ],
      "execution_count": 0,
      "outputs": []
    },
    {
      "cell_type": "markdown",
      "metadata": {
        "id": "9zpUZ76Ss8GZ",
        "colab_type": "text"
      },
      "source": [
        "### Create feature for text message length"
      ]
    },
    {
      "cell_type": "code",
      "metadata": {
        "id": "r9SKVWj3s8Ga",
        "colab_type": "code",
        "colab": {
          "base_uri": "https://localhost:8080/",
          "height": 198
        },
        "outputId": "4b8c6f02-c689-48d0-e73d-47571c3b9e31"
      },
      "source": [
        "data['body_len'] = data['body_text'].apply(lambda x: len(x) - x.count(\" \"))\n",
        "\n",
        "data.head()"
      ],
      "execution_count": 3,
      "outputs": [
        {
          "output_type": "execute_result",
          "data": {
            "text/html": [
              "<div>\n",
              "<style scoped>\n",
              "    .dataframe tbody tr th:only-of-type {\n",
              "        vertical-align: middle;\n",
              "    }\n",
              "\n",
              "    .dataframe tbody tr th {\n",
              "        vertical-align: top;\n",
              "    }\n",
              "\n",
              "    .dataframe thead th {\n",
              "        text-align: right;\n",
              "    }\n",
              "</style>\n",
              "<table border=\"1\" class=\"dataframe\">\n",
              "  <thead>\n",
              "    <tr style=\"text-align: right;\">\n",
              "      <th></th>\n",
              "      <th>label</th>\n",
              "      <th>body_text</th>\n",
              "      <th>body_len</th>\n",
              "    </tr>\n",
              "  </thead>\n",
              "  <tbody>\n",
              "    <tr>\n",
              "      <th>0</th>\n",
              "      <td>spam</td>\n",
              "      <td>Free entry in 2 a wkly comp to win FA Cup fina...</td>\n",
              "      <td>128</td>\n",
              "    </tr>\n",
              "    <tr>\n",
              "      <th>1</th>\n",
              "      <td>ham</td>\n",
              "      <td>Nah I don't think he goes to usf, he lives aro...</td>\n",
              "      <td>49</td>\n",
              "    </tr>\n",
              "    <tr>\n",
              "      <th>2</th>\n",
              "      <td>ham</td>\n",
              "      <td>Even my brother is not like to speak with me. ...</td>\n",
              "      <td>62</td>\n",
              "    </tr>\n",
              "    <tr>\n",
              "      <th>3</th>\n",
              "      <td>ham</td>\n",
              "      <td>I HAVE A DATE ON SUNDAY WITH WILL!!</td>\n",
              "      <td>28</td>\n",
              "    </tr>\n",
              "    <tr>\n",
              "      <th>4</th>\n",
              "      <td>ham</td>\n",
              "      <td>As per your request 'Melle Melle (Oru Minnamin...</td>\n",
              "      <td>135</td>\n",
              "    </tr>\n",
              "  </tbody>\n",
              "</table>\n",
              "</div>"
            ],
            "text/plain": [
              "  label                                          body_text  body_len\n",
              "0  spam  Free entry in 2 a wkly comp to win FA Cup fina...       128\n",
              "1   ham  Nah I don't think he goes to usf, he lives aro...        49\n",
              "2   ham  Even my brother is not like to speak with me. ...        62\n",
              "3   ham                I HAVE A DATE ON SUNDAY WITH WILL!!        28\n",
              "4   ham  As per your request 'Melle Melle (Oru Minnamin...       135"
            ]
          },
          "metadata": {
            "tags": []
          },
          "execution_count": 3
        }
      ]
    },
    {
      "cell_type": "markdown",
      "metadata": {
        "id": "T71p9oqts8Gf",
        "colab_type": "text"
      },
      "source": [
        "### Create feature for % of text that is punctuation"
      ]
    },
    {
      "cell_type": "code",
      "metadata": {
        "id": "Lsmmvnavs8Gg",
        "colab_type": "code",
        "colab": {
          "base_uri": "https://localhost:8080/",
          "height": 198
        },
        "outputId": "e5a503c5-63d4-47ac-c012-62ec107b11db"
      },
      "source": [
        "import string\n",
        "\n",
        "def count_punct(text):\n",
        "    count = sum([1 for char in text if char in string.punctuation])\n",
        "    return round(count/(len(text) - text.count(\" \")), 3)*100\n",
        "\n",
        "data['punct%'] = data['body_text'].apply(lambda x: count_punct(x))\n",
        "\n",
        "data.head()"
      ],
      "execution_count": 4,
      "outputs": [
        {
          "output_type": "execute_result",
          "data": {
            "text/html": [
              "<div>\n",
              "<style scoped>\n",
              "    .dataframe tbody tr th:only-of-type {\n",
              "        vertical-align: middle;\n",
              "    }\n",
              "\n",
              "    .dataframe tbody tr th {\n",
              "        vertical-align: top;\n",
              "    }\n",
              "\n",
              "    .dataframe thead th {\n",
              "        text-align: right;\n",
              "    }\n",
              "</style>\n",
              "<table border=\"1\" class=\"dataframe\">\n",
              "  <thead>\n",
              "    <tr style=\"text-align: right;\">\n",
              "      <th></th>\n",
              "      <th>label</th>\n",
              "      <th>body_text</th>\n",
              "      <th>body_len</th>\n",
              "      <th>punct%</th>\n",
              "    </tr>\n",
              "  </thead>\n",
              "  <tbody>\n",
              "    <tr>\n",
              "      <th>0</th>\n",
              "      <td>spam</td>\n",
              "      <td>Free entry in 2 a wkly comp to win FA Cup fina...</td>\n",
              "      <td>128</td>\n",
              "      <td>4.7</td>\n",
              "    </tr>\n",
              "    <tr>\n",
              "      <th>1</th>\n",
              "      <td>ham</td>\n",
              "      <td>Nah I don't think he goes to usf, he lives aro...</td>\n",
              "      <td>49</td>\n",
              "      <td>4.1</td>\n",
              "    </tr>\n",
              "    <tr>\n",
              "      <th>2</th>\n",
              "      <td>ham</td>\n",
              "      <td>Even my brother is not like to speak with me. ...</td>\n",
              "      <td>62</td>\n",
              "      <td>3.2</td>\n",
              "    </tr>\n",
              "    <tr>\n",
              "      <th>3</th>\n",
              "      <td>ham</td>\n",
              "      <td>I HAVE A DATE ON SUNDAY WITH WILL!!</td>\n",
              "      <td>28</td>\n",
              "      <td>7.1</td>\n",
              "    </tr>\n",
              "    <tr>\n",
              "      <th>4</th>\n",
              "      <td>ham</td>\n",
              "      <td>As per your request 'Melle Melle (Oru Minnamin...</td>\n",
              "      <td>135</td>\n",
              "      <td>4.4</td>\n",
              "    </tr>\n",
              "  </tbody>\n",
              "</table>\n",
              "</div>"
            ],
            "text/plain": [
              "  label                                          body_text  body_len  punct%\n",
              "0  spam  Free entry in 2 a wkly comp to win FA Cup fina...       128     4.7\n",
              "1   ham  Nah I don't think he goes to usf, he lives aro...        49     4.1\n",
              "2   ham  Even my brother is not like to speak with me. ...        62     3.2\n",
              "3   ham                I HAVE A DATE ON SUNDAY WITH WILL!!        28     7.1\n",
              "4   ham  As per your request 'Melle Melle (Oru Minnamin...       135     4.4"
            ]
          },
          "metadata": {
            "tags": []
          },
          "execution_count": 4
        }
      ]
    },
    {
      "cell_type": "markdown",
      "metadata": {
        "id": "930edcCns8Gj",
        "colab_type": "text"
      },
      "source": [
        "### Evaluate created features"
      ]
    },
    {
      "cell_type": "code",
      "metadata": {
        "id": "fenJ8waBs8Gk",
        "colab_type": "code",
        "colab": {}
      },
      "source": [
        "from matplotlib import pyplot\n",
        "import numpy as np\n",
        "%matplotlib inline"
      ],
      "execution_count": 0,
      "outputs": []
    },
    {
      "cell_type": "code",
      "metadata": {
        "id": "El8pIY6Cs8Gn",
        "colab_type": "code",
        "colab": {
          "base_uri": "https://localhost:8080/",
          "height": 388
        },
        "outputId": "c825a2c7-3d06-4347-feea-9f786e7149c0"
      },
      "source": [
        "bins = np.linspace(0, 200, 40)\n",
        "\n",
        "pyplot.hist(data[data['label']=='spam']['body_len'], bins, alpha=0.5, normed=True, label='spam')\n",
        "pyplot.hist(data[data['label']=='ham']['body_len'], bins, alpha=0.5, normed=True, label='ham')\n",
        "pyplot.legend(loc='upper left')\n",
        "pyplot.show()"
      ],
      "execution_count": 6,
      "outputs": [
        {
          "output_type": "stream",
          "text": [
            "/usr/local/lib/python3.6/dist-packages/ipykernel_launcher.py:3: MatplotlibDeprecationWarning: \n",
            "The 'normed' kwarg was deprecated in Matplotlib 2.1 and will be removed in 3.1. Use 'density' instead.\n",
            "  This is separate from the ipykernel package so we can avoid doing imports until\n",
            "/usr/local/lib/python3.6/dist-packages/ipykernel_launcher.py:4: MatplotlibDeprecationWarning: \n",
            "The 'normed' kwarg was deprecated in Matplotlib 2.1 and will be removed in 3.1. Use 'density' instead.\n",
            "  after removing the cwd from sys.path.\n"
          ],
          "name": "stderr"
        },
        {
          "output_type": "display_data",
          "data": {
            "image/png": "[encoded data removed]",
            "text/plain": [
              "<Figure size 432x288 with 1 Axes>"
            ]
          },
          "metadata": {
            "tags": []
          }
        }
      ]
    },
    {
      "cell_type": "code",
      "metadata": {
        "id": "e0a-IRd3usk9",
        "colab_type": "code",
        "colab": {
          "base_uri": "https://localhost:8080/",
          "height": 388
        },
        "outputId": "801b73f7-b3b9-4d20-dce4-db8ae824a280"
      },
      "source": [
        "bins = np.linspace(0, 50, 40)\n",
        "\n",
        "pyplot.hist(data[data['label']=='spam']['punct%'], bins, alpha=0.5, normed=True, label='spam')\n",
        "pyplot.hist(data[data['label']=='ham']['punct%'], bins, alpha=0.5, normed=True, label='ham')\n",
        "pyplot.legend(loc='upper right')\n",
        "pyplot.show()"
      ],
      "execution_count": 7,
      "outputs": [
        {
          "output_type": "stream",
          "text": [
            "/usr/local/lib/python3.6/dist-packages/ipykernel_launcher.py:3: MatplotlibDeprecationWarning: \n",
            "The 'normed' kwarg was deprecated in Matplotlib 2.1 and will be removed in 3.1. Use 'density' instead.\n",
            "  This is separate from the ipykernel package so we can avoid doing imports until\n",
            "/usr/local/lib/python3.6/dist-packages/ipykernel_launcher.py:4: MatplotlibDeprecationWarning: \n",
            "The 'normed' kwarg was deprecated in Matplotlib 2.1 and will be removed in 3.1. Use 'density' instead.\n",
            "  after removing the cwd from sys.path.\n"
          ],
          "name": "stderr"
        },
        {
          "output_type": "display_data",
          "data": {
            "image/png": "[encoded data removed]",
            "text/plain": [
              "<Figure size 432x288 with 1 Axes>"
            ]
          },
          "metadata": {
            "tags": []
          }
        }
      ]
    },
    {
      "cell_type": "code",
      "metadata": {
        "id": "U0ZHAZk1utHt",
        "colab_type": "code",
        "colab": {}
      },
      "source": [
        ""
      ],
      "execution_count": 0,
      "outputs": []
    }
  ]
}