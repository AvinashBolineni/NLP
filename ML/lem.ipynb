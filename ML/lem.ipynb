{
  "nbformat": 4,
  "nbformat_minor": 0,
  "metadata": {
    "kernelspec": {
      "display_name": "Python 3",
      "language": "python",
      "name": "python3"
    },
    "language_info": {
      "codemirror_mode": {
        "name": "ipython",
        "version": 3
      },
      "file_extension": ".py",
      "mimetype": "text/x-python",
      "name": "python",
      "nbconvert_exporter": "python",
      "pygments_lexer": "ipython3",
      "version": "3.6.8"
    },
    "colab": {
      "name": "lem.ipynb",
      "provenance": [],
      "include_colab_link": true
    }
  },
  "cells": [
    {
      "cell_type": "markdown",
      "metadata": {
        "id": "view-in-github",
        "colab_type": "text"
      },
      "source": [
        "<a href=\"https://colab.research.google.com/github/mohanrajmit/NLP/blob/master/ML/lem.ipynb\" target=\"_parent\"><img src=\"https://colab.research.google.com/assets/colab-badge.svg\" alt=\"Open In Colab\"/></a>"
      ]
    },
    {
      "cell_type": "markdown",
      "metadata": {
        "id": "VcoJC3koPpa3",
        "colab_type": "text"
      },
      "source": [
        "# Supplemental Data Cleaning: Using a Lemmatizer"
      ]
    },
    {
      "cell_type": "markdown",
      "metadata": {
        "id": "uhD0D63LPpa6",
        "colab_type": "text"
      },
      "source": [
        "### Test out WordNet lemmatizer (read more about WordNet [here](https://wordnet.princeton.edu/))"
      ]
    },
    {
      "cell_type": "code",
      "metadata": {
        "id": "2t7OW5bzPpa7",
        "colab_type": "code",
        "outputId": "7afa55ae-a9d6-4b7e-b4fc-4a719ac91118",
        "colab": {
          "base_uri": "https://localhost:8080/",
          "height": 51
        }
      },
      "source": [
        "import nltk\n",
        "nltk.download('wordnet')\n",
        "\n",
        "wn = nltk.WordNetLemmatizer()\n",
        "ps = nltk.PorterStemmer()"
      ],
      "execution_count": 1,
      "outputs": [
        {
          "output_type": "stream",
          "text": [
            "[nltk_data] Downloading package wordnet to /root/nltk_data...\n",
            "[nltk_data]   Unzipping corpora/wordnet.zip.\n"
          ],
          "name": "stdout"
        }
      ]
    },
    {
      "cell_type": "code",
      "metadata": {
        "id": "GCXiOI6MPpbE",
        "colab_type": "code",
        "outputId": "eb781095-f88e-45a1-86c4-5157f57a7fd5",
        "colab": {
          "base_uri": "https://localhost:8080/",
          "height": 136
        }
      },
      "source": [
        "print(ps.stem('meanness'))\n",
        "print(ps.stem('meaning'))\n",
        "print(ps.stem('run'))\n",
        "print(ps.stem('running'))\n",
        "print(ps.stem('runner'))\n",
        "\n",
        "print(ps.stem(\"Meanness\"))\n",
        "print(ps.stem(\"meaning\"))\n"
      ],
      "execution_count": 3,
      "outputs": [
        {
          "output_type": "stream",
          "text": [
            "mean\n",
            "mean\n",
            "run\n",
            "run\n",
            "runner\n",
            "mean\n",
            "mean\n"
          ],
          "name": "stdout"
        }
      ]
    },
    {
      "cell_type": "code",
      "metadata": {
        "id": "kCOEHP6jPpbH",
        "colab_type": "code",
        "outputId": "eced068c-912f-415b-dd00-54b51a800bb3",
        "colab": {
          "base_uri": "https://localhost:8080/",
          "height": 51
        }
      },
      "source": [
        "print(wn.lemmatize('meanness'))\n",
        "print(wn.lemmatize('meaning'))"
      ],
      "execution_count": 4,
      "outputs": [
        {
          "output_type": "stream",
          "text": [
            "meanness\n",
            "meaning\n"
          ],
          "name": "stdout"
        }
      ]
    },
    {
      "cell_type": "code",
      "metadata": {
        "id": "qsQ81zvqPpbL",
        "colab_type": "code",
        "outputId": "a4839678-75f7-494f-ba2d-019be8db8d6e",
        "colab": {
          "base_uri": "https://localhost:8080/",
          "height": 34
        }
      },
      "source": [
        "tokenized = ['test','in','the','rest','of','for','new','last']\n",
        "result = [word for word in tokenized if word not in ['in','on','the','of','for']]\n",
        "print(result)"
      ],
      "execution_count": 5,
      "outputs": [
        {
          "output_type": "stream",
          "text": [
            "['test', 'rest', 'new', 'last']\n"
          ],
          "name": "stdout"
        }
      ]
    },
    {
      "cell_type": "code",
      "metadata": {
        "id": "Vi5snvd9PpbP",
        "colab_type": "code",
        "outputId": "92bc0192-147a-42d7-8aab-3f153aea21e4",
        "colab": {
          "base_uri": "https://localhost:8080/",
          "height": 51
        }
      },
      "source": [
        "print(ps.stem('goose'))\n",
        "print(ps.stem('geese'))"
      ],
      "execution_count": 6,
      "outputs": [
        {
          "output_type": "stream",
          "text": [
            "goos\n",
            "gees\n"
          ],
          "name": "stdout"
        }
      ]
    },
    {
      "cell_type": "code",
      "metadata": {
        "id": "5s0WoFZWPpbT",
        "colab_type": "code",
        "outputId": "80c05d43-73c7-4e24-a788-49e58e664301",
        "colab": {
          "base_uri": "https://localhost:8080/",
          "height": 34
        }
      },
      "source": [
        "import re\n",
        "print(re.split('\\W+',\"some of the-words are+combined\"))"
      ],
      "execution_count": 7,
      "outputs": [
        {
          "output_type": "stream",
          "text": [
            "['some', 'of', 'the', 'words', 'are', 'combined']\n"
          ],
          "name": "stdout"
        }
      ]
    },
    {
      "cell_type": "code",
      "metadata": {
        "id": "PKjrNus5PpbX",
        "colab_type": "code",
        "outputId": "9e64f2ee-94a9-4164-aa4d-2a307101ef44",
        "colab": {
          "base_uri": "https://localhost:8080/",
          "height": 51
        }
      },
      "source": [
        "print(wn.lemmatize('goose'))\n",
        "print(wn.lemmatize('geese'))"
      ],
      "execution_count": 8,
      "outputs": [
        {
          "output_type": "stream",
          "text": [
            "goose\n",
            "goose\n"
          ],
          "name": "stdout"
        }
      ]
    },
    {
      "cell_type": "markdown",
      "metadata": {
        "id": "fJkfcA-7Ppbb",
        "colab_type": "text"
      },
      "source": [
        "### Read in raw text"
      ]
    },
    {
      "cell_type": "code",
      "metadata": {
        "id": "l9ITUoc6QMxt",
        "colab_type": "code",
        "outputId": "0684398d-432a-414a-8e9d-5b5a24fc0fd8",
        "colab": {
          "base_uri": "https://localhost:8080/",
          "height": 119
        }
      },
      "source": [
        "!git clone https://github.com/mohanrajmit/NLP.git"
      ],
      "execution_count": 9,
      "outputs": [
        {
          "output_type": "stream",
          "text": [
            "Cloning into 'NLP'...\n",
            "remote: Enumerating objects: 90, done.\u001b[K\n",
            "remote: Counting objects:   1% (1/90)\u001b[K\rremote: Counting objects:   2% (2/90)\u001b[K\rremote: Counting objects:   3% (3/90)\u001b[K\rremote: Counting objects:   4% (4/90)\u001b[K\rremote: Counting objects:   5% (5/90)\u001b[K\rremote: Counting objects:   6% (6/90)\u001b[K\rremote: Counting objects:   7% (7/90)\u001b[K\rremote: Counting objects:   8% (8/90)\u001b[K\rremote: Counting objects:  10% (9/90)\u001b[K\rremote: Counting objects:  11% (10/90)\u001b[K\rremote: Counting objects:  12% (11/90)\u001b[K\rremote: Counting objects:  13% (12/90)\u001b[K\rremote: Counting objects:  14% (13/90)\u001b[K\rremote: Counting objects:  15% (14/90)\u001b[K\rremote: Counting objects:  16% (15/90)\u001b[K\rremote: Counting objects:  17% (16/90)\u001b[K\rremote: Counting objects:  18% (17/90)\u001b[K\rremote: Counting objects:  20% (18/90)\u001b[K\rremote: Counting objects:  21% (19/90)\u001b[K\rremote: Counting objects:  22% (20/90)\u001b[K\rremote: Counting objects:  23% (21/90)\u001b[K\rremote: Counting objects:  24% (22/90)\u001b[K\rremote: Counting objects:  25% (23/90)\u001b[K\rremote: Counting objects:  26% (24/90)\u001b[K\rremote: Counting objects:  27% (25/90)\u001b[K\rremote: Counting objects:  28% (26/90)\u001b[K\rremote: Counting objects:  30% (27/90)\u001b[K\rremote: Counting objects:  31% (28/90)\u001b[K\rremote: Counting objects:  32% (29/90)\u001b[K\rremote: Counting objects:  33% (30/90)\u001b[K\rremote: Counting objects:  34% (31/90)\u001b[K\rremote: Counting objects:  35% (32/90)\u001b[K\rremote: Counting objects:  36% (33/90)\u001b[K\rremote: Counting objects:  37% (34/90)\u001b[K\rremote: Counting objects:  38% (35/90)\u001b[K\rremote: Counting objects:  40% (36/90)\u001b[K\rremote: Counting objects:  41% (37/90)\u001b[K\rremote: Counting objects:  42% (38/90)\u001b[K\rremote: Counting objects:  43% (39/90)\u001b[K\rremote: Counting objects:  44% (40/90)\u001b[K\rremote: Counting objects:  45% (41/90)\u001b[K\rremote: Counting objects:  46% (42/90)\u001b[K\rremote: Counting objects:  47% (43/90)\u001b[K\rremote: Counting objects:  48% (44/90)\u001b[K\rremote: Counting objects:  50% (45/90)\u001b[K\rremote: Counting objects:  51% (46/90)\u001b[K\rremote: Counting objects:  52% (47/90)\u001b[K\rremote: Counting objects:  53% (48/90)\u001b[K\rremote: Counting objects:  54% (49/90)\u001b[K\rremote: Counting objects:  55% (50/90)\u001b[K\rremote: Counting objects:  56% (51/90)\u001b[K\rremote: Counting objects:  57% (52/90)\u001b[K\rremote: Counting objects:  58% (53/90)\u001b[K\rremote: Counting objects:  60% (54/90)\u001b[K\rremote: Counting objects:  61% (55/90)\u001b[K\rremote: Counting objects:  62% (56/90)\u001b[K\rremote: Counting objects:  63% (57/90)\u001b[K\rremote: Counting objects:  64% (58/90)\u001b[K\rremote: Counting objects:  65% (59/90)\u001b[K\rremote: Counting objects:  66% (60/90)\u001b[K\rremote: Counting objects:  67% (61/90)\u001b[K\rremote: Counting objects:  68% (62/90)\u001b[K\rremote: Counting objects:  70% (63/90)\u001b[K\rremote: Counting objects:  71% (64/90)\u001b[K\rremote: Counting objects:  72% (65/90)\u001b[K\rremote: Counting objects:  73% (66/90)\u001b[K\rremote: Counting objects:  74% (67/90)\u001b[K\rremote: Counting objects:  75% (68/90)\u001b[K\rremote: Counting objects:  76% (69/90)\u001b[K\rremote: Counting objects:  77% (70/90)\u001b[K\rremote: Counting objects:  78% (71/90)\u001b[K\rremote: Counting objects:  80% (72/90)\u001b[K\rremote: Counting objects:  81% (73/90)\u001b[K\rremote: Counting objects:  82% (74/90)\u001b[K\rremote: Counting objects:  83% (75/90)\u001b[K\rremote: Counting objects:  84% (76/90)\u001b[K\rremote: Counting objects:  85% (77/90)\u001b[K\rremote: Counting objects:  86% (78/90)\u001b[K\rremote: Counting objects:  87% (79/90)\u001b[K\rremote: Counting objects:  88% (80/90)\u001b[K\rremote: Counting objects:  90% (81/90)\u001b[K\rremote: Counting objects:  91% (82/90)\u001b[K\rremote: Counting objects:  92% (83/90)\u001b[K\rremote: Counting objects:  93% (84/90)\u001b[K\rremote: Counting objects:  94% (85/90)\u001b[K\rremote: Counting objects:  95% (86/90)\u001b[K\rremote: Counting objects:  96% (87/90)\u001b[K\rremote: Counting objects:  97% (88/90)\u001b[K\rremote: Counting objects:  98% (89/90)\u001b[K\rremote: Counting objects: 100% (90/90)\u001b[K\rremote: Counting objects: 100% (90/90), done.\u001b[K\n",
            "remote: Compressing objects: 100% (88/88), done.\u001b[K\n",
            "remote: Total 90 (delta 49), reused 2 (delta 0), pack-reused 0\u001b[K\n",
            "Unpacking objects: 100% (90/90), done.\n"
          ],
          "name": "stdout"
        }
      ]
    },
    {
      "cell_type": "code",
      "metadata": {
        "id": "NZGmwHxWPpbc",
        "colab_type": "code",
        "outputId": "67c5c712-819a-4a60-caa0-67058080175a",
        "colab": {
          "base_uri": "https://localhost:8080/",
          "height": 238
        }
      },
      "source": [
        "import pandas as pd\n",
        "import re\n",
        "import string\n",
        "nltk.download('stopwords')\n",
        "pd.set_option('display.max_colwidth', 100)\n",
        "\n",
        "stopwords = nltk.corpus.stopwords.words('english')\n",
        "\n",
        "data = pd.read_csv(\"/content/NLP/SMSSpamCollection.tsv\", sep='\\t')\n",
        "data.columns = ['label', 'body_text']\n",
        "\n",
        "data.head()"
      ],
      "execution_count": 10,
      "outputs": [
        {
          "output_type": "stream",
          "text": [
            "[nltk_data] Downloading package stopwords to /root/nltk_data...\n",
            "[nltk_data]   Unzipping corpora/stopwords.zip.\n"
          ],
          "name": "stdout"
        },
        {
          "output_type": "execute_result",
          "data": {
            "text/html": [
              "<div>\n",
              "<style scoped>\n",
              "    .dataframe tbody tr th:only-of-type {\n",
              "        vertical-align: middle;\n",
              "    }\n",
              "\n",
              "    .dataframe tbody tr th {\n",
              "        vertical-align: top;\n",
              "    }\n",
              "\n",
              "    .dataframe thead th {\n",
              "        text-align: right;\n",
              "    }\n",
              "</style>\n",
              "<table border=\"1\" class=\"dataframe\">\n",
              "  <thead>\n",
              "    <tr style=\"text-align: right;\">\n",
              "      <th></th>\n",
              "      <th>label</th>\n",
              "      <th>body_text</th>\n",
              "    </tr>\n",
              "  </thead>\n",
              "  <tbody>\n",
              "    <tr>\n",
              "      <th>0</th>\n",
              "      <td>spam</td>\n",
              "      <td>Free entry in 2 a wkly comp to win FA Cup final tkts 21st May 2005. Text FA to 87121 to receive ...</td>\n",
              "    </tr>\n",
              "    <tr>\n",
              "      <th>1</th>\n",
              "      <td>ham</td>\n",
              "      <td>Nah I don't think he goes to usf, he lives around here though</td>\n",
              "    </tr>\n",
              "    <tr>\n",
              "      <th>2</th>\n",
              "      <td>ham</td>\n",
              "      <td>Even my brother is not like to speak with me. They treat me like aids patent.</td>\n",
              "    </tr>\n",
              "    <tr>\n",
              "      <th>3</th>\n",
              "      <td>ham</td>\n",
              "      <td>I HAVE A DATE ON SUNDAY WITH WILL!!</td>\n",
              "    </tr>\n",
              "    <tr>\n",
              "      <th>4</th>\n",
              "      <td>ham</td>\n",
              "      <td>As per your request 'Melle Melle (Oru Minnaminunginte Nurungu Vettam)' has been set as your call...</td>\n",
              "    </tr>\n",
              "  </tbody>\n",
              "</table>\n",
              "</div>"
            ],
            "text/plain": [
              "  label                                                                                            body_text\n",
              "0  spam  Free entry in 2 a wkly comp to win FA Cup final tkts 21st May 2005. Text FA to 87121 to receive ...\n",
              "1   ham                                        Nah I don't think he goes to usf, he lives around here though\n",
              "2   ham                        Even my brother is not like to speak with me. They treat me like aids patent.\n",
              "3   ham                                                                  I HAVE A DATE ON SUNDAY WITH WILL!!\n",
              "4   ham  As per your request 'Melle Melle (Oru Minnaminunginte Nurungu Vettam)' has been set as your call..."
            ]
          },
          "metadata": {
            "tags": []
          },
          "execution_count": 10
        }
      ]
    },
    {
      "cell_type": "markdown",
      "metadata": {
        "id": "FTCJd832Ppbg",
        "colab_type": "text"
      },
      "source": [
        "### Clean up text"
      ]
    },
    {
      "cell_type": "code",
      "metadata": {
        "id": "bHT4dF4sPpbh",
        "colab_type": "code",
        "outputId": "cfe9bf7a-15e8-4611-ce98-2e3bd4f18969",
        "colab": {
          "base_uri": "https://localhost:8080/",
          "height": 204
        }
      },
      "source": [
        "def clean_text(text):\n",
        "    text = \"\".join([word for word in text if word not in string.punctuation])\n",
        "    tokens = re.split('\\W+', text)\n",
        "    text = [word for word in tokens if word not in stopwords]\n",
        "    return text\n",
        "\n",
        "data['body_text_nostop'] = data['body_text'].apply(lambda x: clean_text(x.lower()))\n",
        "\n",
        "data.head()"
      ],
      "execution_count": 11,
      "outputs": [
        {
          "output_type": "execute_result",
          "data": {
            "text/html": [
              "<div>\n",
              "<style scoped>\n",
              "    .dataframe tbody tr th:only-of-type {\n",
              "        vertical-align: middle;\n",
              "    }\n",
              "\n",
              "    .dataframe tbody tr th {\n",
              "        vertical-align: top;\n",
              "    }\n",
              "\n",
              "    .dataframe thead th {\n",
              "        text-align: right;\n",
              "    }\n",
              "</style>\n",
              "<table border=\"1\" class=\"dataframe\">\n",
              "  <thead>\n",
              "    <tr style=\"text-align: right;\">\n",
              "      <th></th>\n",
              "      <th>label</th>\n",
              "      <th>body_text</th>\n",
              "      <th>body_text_nostop</th>\n",
              "    </tr>\n",
              "  </thead>\n",
              "  <tbody>\n",
              "    <tr>\n",
              "      <th>0</th>\n",
              "      <td>spam</td>\n",
              "      <td>Free entry in 2 a wkly comp to win FA Cup final tkts 21st May 2005. Text FA to 87121 to receive ...</td>\n",
              "      <td>[free, entry, 2, wkly, comp, win, fa, cup, final, tkts, 21st, may, 2005, text, fa, 87121, receiv...</td>\n",
              "    </tr>\n",
              "    <tr>\n",
              "      <th>1</th>\n",
              "      <td>ham</td>\n",
              "      <td>Nah I don't think he goes to usf, he lives around here though</td>\n",
              "      <td>[nah, dont, think, goes, usf, lives, around, though]</td>\n",
              "    </tr>\n",
              "    <tr>\n",
              "      <th>2</th>\n",
              "      <td>ham</td>\n",
              "      <td>Even my brother is not like to speak with me. They treat me like aids patent.</td>\n",
              "      <td>[even, brother, like, speak, treat, like, aids, patent]</td>\n",
              "    </tr>\n",
              "    <tr>\n",
              "      <th>3</th>\n",
              "      <td>ham</td>\n",
              "      <td>I HAVE A DATE ON SUNDAY WITH WILL!!</td>\n",
              "      <td>[date, sunday]</td>\n",
              "    </tr>\n",
              "    <tr>\n",
              "      <th>4</th>\n",
              "      <td>ham</td>\n",
              "      <td>As per your request 'Melle Melle (Oru Minnaminunginte Nurungu Vettam)' has been set as your call...</td>\n",
              "      <td>[per, request, melle, melle, oru, minnaminunginte, nurungu, vettam, set, callertune, callers, pr...</td>\n",
              "    </tr>\n",
              "  </tbody>\n",
              "</table>\n",
              "</div>"
            ],
            "text/plain": [
              "  label  ...                                                                                     body_text_nostop\n",
              "0  spam  ...  [free, entry, 2, wkly, comp, win, fa, cup, final, tkts, 21st, may, 2005, text, fa, 87121, receiv...\n",
              "1   ham  ...                                                 [nah, dont, think, goes, usf, lives, around, though]\n",
              "2   ham  ...                                              [even, brother, like, speak, treat, like, aids, patent]\n",
              "3   ham  ...                                                                                       [date, sunday]\n",
              "4   ham  ...  [per, request, melle, melle, oru, minnaminunginte, nurungu, vettam, set, callertune, callers, pr...\n",
              "\n",
              "[5 rows x 3 columns]"
            ]
          },
          "metadata": {
            "tags": []
          },
          "execution_count": 11
        }
      ]
    },
    {
      "cell_type": "markdown",
      "metadata": {
        "id": "i01GM9-KPpbl",
        "colab_type": "text"
      },
      "source": [
        "### Lemmatize text"
      ]
    },
    {
      "cell_type": "code",
      "metadata": {
        "id": "LepfTrX5Ppbm",
        "colab_type": "code",
        "outputId": "88c7d19c-8a6a-4ba0-a24d-438c8964b6a9",
        "colab": {
          "base_uri": "https://localhost:8080/",
          "height": 478
        }
      },
      "source": [
        "def lemmatizing(tokenized_text):\n",
        "    text = [wn.lemmatize(word) for word in tokenized_text]\n",
        "    return text\n",
        "\n",
        "data['body_text_lemmatized'] = data['body_text_nostop'].apply(lambda x: lemmatizing(x))\n",
        "\n",
        "data.head(10)"
      ],
      "execution_count": 12,
      "outputs": [
        {
          "output_type": "execute_result",
          "data": {
            "text/html": [
              "<div>\n",
              "<style scoped>\n",
              "    .dataframe tbody tr th:only-of-type {\n",
              "        vertical-align: middle;\n",
              "    }\n",
              "\n",
              "    .dataframe tbody tr th {\n",
              "        vertical-align: top;\n",
              "    }\n",
              "\n",
              "    .dataframe thead th {\n",
              "        text-align: right;\n",
              "    }\n",
              "</style>\n",
              "<table border=\"1\" class=\"dataframe\">\n",
              "  <thead>\n",
              "    <tr style=\"text-align: right;\">\n",
              "      <th></th>\n",
              "      <th>label</th>\n",
              "      <th>body_text</th>\n",
              "      <th>body_text_nostop</th>\n",
              "      <th>body_text_lemmatized</th>\n",
              "    </tr>\n",
              "  </thead>\n",
              "  <tbody>\n",
              "    <tr>\n",
              "      <th>0</th>\n",
              "      <td>spam</td>\n",
              "      <td>Free entry in 2 a wkly comp to win FA Cup final tkts 21st May 2005. Text FA to 87121 to receive ...</td>\n",
              "      <td>[free, entry, 2, wkly, comp, win, fa, cup, final, tkts, 21st, may, 2005, text, fa, 87121, receiv...</td>\n",
              "      <td>[free, entry, 2, wkly, comp, win, fa, cup, final, tkts, 21st, may, 2005, text, fa, 87121, receiv...</td>\n",
              "    </tr>\n",
              "    <tr>\n",
              "      <th>1</th>\n",
              "      <td>ham</td>\n",
              "      <td>Nah I don't think he goes to usf, he lives around here though</td>\n",
              "      <td>[nah, dont, think, goes, usf, lives, around, though]</td>\n",
              "      <td>[nah, dont, think, go, usf, life, around, though]</td>\n",
              "    </tr>\n",
              "    <tr>\n",
              "      <th>2</th>\n",
              "      <td>ham</td>\n",
              "      <td>Even my brother is not like to speak with me. They treat me like aids patent.</td>\n",
              "      <td>[even, brother, like, speak, treat, like, aids, patent]</td>\n",
              "      <td>[even, brother, like, speak, treat, like, aid, patent]</td>\n",
              "    </tr>\n",
              "    <tr>\n",
              "      <th>3</th>\n",
              "      <td>ham</td>\n",
              "      <td>I HAVE A DATE ON SUNDAY WITH WILL!!</td>\n",
              "      <td>[date, sunday]</td>\n",
              "      <td>[date, sunday]</td>\n",
              "    </tr>\n",
              "    <tr>\n",
              "      <th>4</th>\n",
              "      <td>ham</td>\n",
              "      <td>As per your request 'Melle Melle (Oru Minnaminunginte Nurungu Vettam)' has been set as your call...</td>\n",
              "      <td>[per, request, melle, melle, oru, minnaminunginte, nurungu, vettam, set, callertune, callers, pr...</td>\n",
              "      <td>[per, request, melle, melle, oru, minnaminunginte, nurungu, vettam, set, callertune, caller, pre...</td>\n",
              "    </tr>\n",
              "    <tr>\n",
              "      <th>5</th>\n",
              "      <td>spam</td>\n",
              "      <td>WINNER!! As a valued network customer you have been selected to receivea £900 prize reward! To c...</td>\n",
              "      <td>[winner, valued, network, customer, selected, receivea, 900, prize, reward, claim, call, 0906170...</td>\n",
              "      <td>[winner, valued, network, customer, selected, receivea, 900, prize, reward, claim, call, 0906170...</td>\n",
              "    </tr>\n",
              "    <tr>\n",
              "      <th>6</th>\n",
              "      <td>spam</td>\n",
              "      <td>Had your mobile 11 months or more? U R entitled to Update to the latest colour mobiles with came...</td>\n",
              "      <td>[mobile, 11, months, u, r, entitled, update, latest, colour, mobiles, camera, free, call, mobile...</td>\n",
              "      <td>[mobile, 11, month, u, r, entitled, update, latest, colour, mobile, camera, free, call, mobile, ...</td>\n",
              "    </tr>\n",
              "    <tr>\n",
              "      <th>7</th>\n",
              "      <td>ham</td>\n",
              "      <td>I'm gonna be home soon and i don't want to talk about this stuff anymore tonight, k? I've cried ...</td>\n",
              "      <td>[im, gonna, home, soon, dont, want, talk, stuff, anymore, tonight, k, ive, cried, enough, today]</td>\n",
              "      <td>[im, gonna, home, soon, dont, want, talk, stuff, anymore, tonight, k, ive, cried, enough, today]</td>\n",
              "    </tr>\n",
              "    <tr>\n",
              "      <th>8</th>\n",
              "      <td>spam</td>\n",
              "      <td>SIX chances to win CASH! From 100 to 20,000 pounds txt&gt; CSH11 and send to 87575. Cost 150p/day, ...</td>\n",
              "      <td>[six, chances, win, cash, 100, 20000, pounds, txt, csh11, send, 87575, cost, 150pday, 6days, 16,...</td>\n",
              "      <td>[six, chance, win, cash, 100, 20000, pound, txt, csh11, send, 87575, cost, 150pday, 6days, 16, t...</td>\n",
              "    </tr>\n",
              "    <tr>\n",
              "      <th>9</th>\n",
              "      <td>spam</td>\n",
              "      <td>URGENT! You have won a 1 week FREE membership in our £100,000 Prize Jackpot! Txt the word: CLAIM...</td>\n",
              "      <td>[urgent, 1, week, free, membership, 100000, prize, jackpot, txt, word, claim, 81010, tc, wwwdbuk...</td>\n",
              "      <td>[urgent, 1, week, free, membership, 100000, prize, jackpot, txt, word, claim, 81010, tc, wwwdbuk...</td>\n",
              "    </tr>\n",
              "  </tbody>\n",
              "</table>\n",
              "</div>"
            ],
            "text/plain": [
              "  label  ...                                                                                 body_text_lemmatized\n",
              "0  spam  ...  [free, entry, 2, wkly, comp, win, fa, cup, final, tkts, 21st, may, 2005, text, fa, 87121, receiv...\n",
              "1   ham  ...                                                    [nah, dont, think, go, usf, life, around, though]\n",
              "2   ham  ...                                               [even, brother, like, speak, treat, like, aid, patent]\n",
              "3   ham  ...                                                                                       [date, sunday]\n",
              "4   ham  ...  [per, request, melle, melle, oru, minnaminunginte, nurungu, vettam, set, callertune, caller, pre...\n",
              "5  spam  ...  [winner, valued, network, customer, selected, receivea, 900, prize, reward, claim, call, 0906170...\n",
              "6  spam  ...  [mobile, 11, month, u, r, entitled, update, latest, colour, mobile, camera, free, call, mobile, ...\n",
              "7   ham  ...     [im, gonna, home, soon, dont, want, talk, stuff, anymore, tonight, k, ive, cried, enough, today]\n",
              "8  spam  ...  [six, chance, win, cash, 100, 20000, pound, txt, csh11, send, 87575, cost, 150pday, 6days, 16, t...\n",
              "9  spam  ...  [urgent, 1, week, free, membership, 100000, prize, jackpot, txt, word, claim, 81010, tc, wwwdbuk...\n",
              "\n",
              "[10 rows x 4 columns]"
            ]
          },
          "metadata": {
            "tags": []
          },
          "execution_count": 12
        }
      ]
    },
    {
      "cell_type": "code",
      "metadata": {
        "id": "bu6UK5P9Ppbq",
        "colab_type": "code",
        "colab": {}
      },
      "source": [
        ""
      ],
      "execution_count": 0,
      "outputs": []
    }
  ]
}